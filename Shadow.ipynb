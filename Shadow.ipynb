{
 "cells": [
  {
   "cell_type": "code",
   "execution_count": 1,
   "metadata": {},
   "outputs": [
    {
     "name": "stdout",
     "output_type": "stream",
     "text": [
      "CUDA Version:  11.8\n",
      "CUDA devices (GPU's) found:  1\n"
     ]
    }
   ],
   "source": [
    "import torch\n",
    "from torch import nn\n",
    "from torch import optim\n",
    "from torchvision import datasets, transforms\n",
    "from torch.utils.data import random_split, DataLoader\n",
    "from torch.nn import functional as F\n",
    "import matplotlib.pyplot as plt\n",
    "import numpy as np\n",
    "import pandas as pd\n",
    "print('CUDA Version: ',torch.version.cuda)\n",
    "print('CUDA devices (GPU\\'s) found: ',torch.cuda.device_count())\n",
    "assert(torch.cuda.is_available())"
   ]
  },
  {
   "cell_type": "markdown",
   "metadata": {},
   "source": [
    "TODO:\n",
    "\n",
    "- add more appropriate metrics than just accuracy\n",
    "- comment code"
   ]
  },
  {
   "cell_type": "markdown",
   "metadata": {},
   "source": [
    "# Shadow model notebook \n",
    "\n",
    "This notebook will load in the target model and attempt to do a model stealing attack on it."
   ]
  },
  {
   "cell_type": "code",
   "execution_count": 2,
   "metadata": {},
   "outputs": [
    {
     "data": {
      "text/plain": [
       "<All keys matched successfully>"
      ]
     },
     "execution_count": 2,
     "metadata": {},
     "output_type": "execute_result"
    }
   ],
   "source": [
    "class ResNet(nn.Module):\n",
    "    def __init__(self):\n",
    "        super().__init__()\n",
    "        self.l1 = nn.Linear(28 * 28, 64)\n",
    "        self.l2 = nn.Linear(64,64)\n",
    "        self.l3 = nn.Linear(64, 10)\n",
    "        # dropout module with 0.1 drop probability\n",
    "        # helps in preventing overfitting\n",
    "        self.do = nn.Dropout(0.1)\n",
    "    \n",
    "    def forward(self,x):\n",
    "        h1 = nn.functional.relu(self.l1(x))\n",
    "        h2 = nn.functional.relu(self.l2(h1))\n",
    "        do = self.do(h2 + h1)\n",
    "        logits = self.l3(do)\n",
    "        # return an array of logits\n",
    "        return logits\n",
    "target = ResNet().cuda()\n",
    "target.load_state_dict(torch.load('target.pth'))"
   ]
  },
  {
   "cell_type": "markdown",
   "metadata": {},
   "source": [
    "### Verify that the model works correctly"
   ]
  },
  {
   "cell_type": "code",
   "execution_count": 3,
   "metadata": {},
   "outputs": [],
   "source": [
    "data = datasets.MNIST('data', train=True, download=True, transform=transforms.ToTensor())\n",
    "# the split here is not needed, but I still want to validate that the model is working, and not run the entire dataset\n",
    "_, val = random_split(data, [50000, 10000])\n",
    "val_loader = DataLoader(val, batch_size=32)\n",
    "loss = nn.CrossEntropyLoss()"
   ]
  },
  {
   "cell_type": "code",
   "execution_count": 4,
   "metadata": {},
   "outputs": [
    {
     "name": "stdout",
     "output_type": "stream",
     "text": [
      "Target loss: 0.21\n",
      "Target accuracy: 0.94\n"
     ]
    }
   ],
   "source": [
    "losses = []\n",
    "accuracy = []\n",
    "for batch in val_loader:\n",
    "    x, y = batch\n",
    "    batch_size = x.size(0)\n",
    "    x = x.view(batch_size, -1).cuda()\n",
    "\n",
    "    \n",
    "    with torch.no_grad():\n",
    "      logit = target(x)\n",
    "    objective = loss(logit, y.cuda())\n",
    "    losses.append(objective.item())\n",
    "    accuracy.append(y.eq(logit.detach().argmax(dim=1).cpu()).float().mean())\n",
    "\n",
    "print(f'Target loss: {torch.tensor(losses).mean():.2f}')\n",
    "print(f'Target accuracy: {torch.tensor(accuracy).mean():.2f}')"
   ]
  },
  {
   "cell_type": "markdown",
   "metadata": {},
   "source": [
    "### Training the shadow model"
   ]
  },
  {
   "cell_type": "code",
   "execution_count": 5,
   "metadata": {},
   "outputs": [],
   "source": [
    "train, val = random_split(data, [55000, 5000])\n",
    "val, test = random_split(val, [4000, 1000])\n",
    "val_for_target = DataLoader(val, batch_size=32)\n",
    "train_for_target = DataLoader(train, batch_size=32)\n",
    "test_loader = DataLoader(test, batch_size=32)\n",
    "\n",
    "shadow = ResNet().cuda()\n",
    "\n",
    "\n",
    "optimiser = optim.SGD(shadow.parameters(), lr=1e-2)\n",
    "loss = nn.CrossEntropyLoss()\n"
   ]
  },
  {
   "cell_type": "code",
   "execution_count": 6,
   "metadata": {},
   "outputs": [],
   "source": [
    "def show_image(image, label):\n",
    "    image_np = image.squeeze().numpy()\n",
    "    plt.imshow(image_np, cmap='gray')\n",
    "    plt.title(f\"Label: {label.item()}\")\n",
    "    plt.axis('off')\n",
    "    plt.show()"
   ]
  },
  {
   "cell_type": "code",
   "execution_count": 7,
   "metadata": {},
   "outputs": [
    {
     "name": "stdout",
     "output_type": "stream",
     "text": [
      "Epoch 1, validation loss: 0.43\n",
      "Epoch 1, validation accuracy: 0.87\n",
      "Epoch 2, validation loss: 0.36\n",
      "Epoch 2, validation accuracy: 0.89\n",
      "Epoch 3, validation loss: 0.32\n",
      "Epoch 3, validation accuracy: 0.90\n",
      "Epoch 4, validation loss: 0.32\n",
      "Epoch 4, validation accuracy: 0.91\n",
      "Epoch 5, validation loss: 0.30\n",
      "Epoch 5, validation accuracy: 0.91\n"
     ]
    }
   ],
   "source": [
    "num_epoch = 5\n",
    "for epoch in range(num_epoch):\n",
    "  losses = []\n",
    "\n",
    "  for batch in train_for_target:\n",
    "    #we shouldn't use the labels from the data, we should use the target model to generate the labels\n",
    "    image, t = batch\n",
    "    \n",
    "    lables = target(image.cuda().view(image.size(0), -1)).argmax(dim=1)\n",
    "\n",
    "    batch_size = image.size(0)\n",
    "    image = image.view(batch_size, -1).cuda()\n",
    "    logit = shadow(image)\n",
    "    objective = loss(logit, lables.cuda())\n",
    "    shadow.zero_grad()\n",
    "    objective.backward()\n",
    "    optimiser.step()\n",
    "    losses.append(objective.item())\n",
    "\n",
    "  losses = []\n",
    "  accuracy = []\n",
    "  for batch in val_for_target:\n",
    "    x, y = batch\n",
    "    batch_size = x.size(0)\n",
    "\n",
    "    x = x.view(batch_size, -1).cuda()\n",
    "    with torch.no_grad():\n",
    "      logit = shadow(x)\n",
    "    objective = loss(logit, y.cuda())\n",
    "    losses.append(objective.item())\n",
    "    accuracy.append(y.eq(logit.detach().argmax(dim=1).cpu()).float().mean())\n",
    "\n",
    "  print(f'Epoch {epoch + 1}, validation loss: {torch.tensor(losses).mean():.2f}')\n",
    "  print(f'Epoch {epoch + 1}, validation accuracy: {torch.tensor(accuracy).mean():.2f}')"
   ]
  },
  {
   "cell_type": "code",
   "execution_count": 8,
   "metadata": {},
   "outputs": [
    {
     "name": "stdout",
     "output_type": "stream",
     "text": [
      "Shadow model accuracy: 0.91\n",
      "Predicted: 6 Actual: 3\n"
     ]
    },
    {
     "data": {
      "image/png": "[encoded data removed]",
      "text/plain": [
       "<Figure size 640x480 with 1 Axes>"
      ]
     },
     "metadata": {},
     "output_type": "display_data"
    },
    {
     "name": "stdout",
     "output_type": "stream",
     "text": [
      "Predicted: 4 Actual: 8\n"
     ]
    },
    {
     "data": {
      "image/png": "[encoded data removed]",
      "text/plain": [
       "<Figure size 640x480 with 1 Axes>"
      ]
     },
     "metadata": {},
     "output_type": "display_data"
    },
    {
     "name": "stdout",
     "output_type": "stream",
     "text": [
      "Predicted: 3 Actual: 8\n"
     ]
    },
    {
     "data": {
      "image/png": "[encoded data removed]",
      "text/plain": [
       "<Figure size 640x480 with 1 Axes>"
      ]
     },
     "metadata": {},
     "output_type": "display_data"
    },
    {
     "name": "stdout",
     "output_type": "stream",
     "text": [
      "Predicted: 9 Actual: 4\n"
     ]
    },
    {
     "data": {
      "image/png": "[encoded data removed]",
      "text/plain": [
       "<Figure size 640x480 with 1 Axes>"
      ]
     },
     "metadata": {},
     "output_type": "display_data"
    },
    {
     "name": "stdout",
     "output_type": "stream",
     "text": [
      "Predicted: 4 Actual: 9\n"
     ]
    },
    {
     "data": {
      "image/png": "[encoded data removed]",
      "text/plain": [
       "<Figure size 640x480 with 1 Axes>"
      ]
     },
     "metadata": {},
     "output_type": "display_data"
    },
    {
     "name": "stdout",
     "output_type": "stream",
     "text": [
      "Predicted: 5 Actual: 3\n"
     ]
    },
    {
     "data": {
      "image/png": "[encoded data removed]",
      "text/plain": [
       "<Figure size 640x480 with 1 Axes>"
      ]
     },
     "metadata": {},
     "output_type": "display_data"
    },
    {
     "name": "stdout",
     "output_type": "stream",
     "text": [
      "Predicted: 0 Actual: 6\n"
     ]
    },
    {
     "data": {
      "image/png": "[encoded data removed]",
      "text/plain": [
       "<Figure size 640x480 with 1 Axes>"
      ]
     },
     "metadata": {},
     "output_type": "display_data"
    },
    {
     "name": "stdout",
     "output_type": "stream",
     "text": [
      "Predicted: 5 Actual: 8\n"
     ]
    },
    {
     "data": {
      "image/png": "[encoded data removed]",
      "text/plain": [
       "<Figure size 640x480 with 1 Axes>"
      ]
     },
     "metadata": {},
     "output_type": "display_data"
    },
    {
     "name": "stdout",
     "output_type": "stream",
     "text": [
      "Predicted: 8 Actual: 5\n"
     ]
    },
    {
     "data": {
      "image/png": "[encoded data removed]",
      "text/plain": [
       "<Figure size 640x480 with 1 Axes>"
      ]
     },
     "metadata": {},
     "output_type": "display_data"
    },
    {
     "name": "stdout",
     "output_type": "stream",
     "text": [
      "Predicted: 8 Actual: 2\n"
     ]
    },
    {
     "data": {
      "image/png": "[encoded data removed]",
      "text/plain": [
       "<Figure size 640x480 with 1 Axes>"
      ]
     },
     "metadata": {},
     "output_type": "display_data"
    }
   ],
   "source": [
    "\n",
    "class image_obj:\n",
    "    def __init__(self, image, label, prediction):\n",
    "        self.image = image\n",
    "        self.label = label\n",
    "        self.prediction = prediction\n",
    "\n",
    "incorrect_images = []\n",
    "\n",
    "for batch in test_loader:\n",
    "    img, y = batch\n",
    "    batch_size = img.size(0)\n",
    "    x = img.view(batch_size, -1).cuda()\n",
    "    with torch.no_grad():\n",
    "      logit = shadow(x)\n",
    "    predicted = logit.argmax(dim=1)\n",
    "    for i in range(32):\n",
    "        try:\n",
    "            if predicted[i] != y[i]:\n",
    "                incorrect_images.append(image_obj(img[i], y[i], predicted[i]))\n",
    "        except:\n",
    "            pass\n",
    "\n",
    "accuracy = 1 - len(incorrect_images) / 1000\n",
    "print(f\"Shadow model accuracy: {accuracy:.2f}\")\n",
    "\n",
    "for i in range(10):\n",
    "    print(f\"Predicted: {incorrect_images[i].prediction.item()} Actual: {incorrect_images[i].label.item()}\")\n",
    "    show_image(incorrect_images[i].image, incorrect_images[i].label)\n",
    "    \n",
    "\n"
   ]
  },
  {
   "cell_type": "code",
   "execution_count": 9,
   "metadata": {},
   "outputs": [
    {
     "name": "stdout",
     "output_type": "stream",
     "text": [
      "Number of incorrect images: 94\n"
     ]
    },
    {
     "data": {
      "text/plain": [
       "<AxesSubplot: title={'center': 'Incorrect Predictions'}>"
      ]
     },
     "execution_count": 9,
     "metadata": {},
     "output_type": "execute_result"
    },
    {
     "data": {
      "image/png": "[encoded data removed]",
      "text/plain": [
       "<Figure size 640x480 with 1 Axes>"
      ]
     },
     "metadata": {},
     "output_type": "display_data"
    }
   ],
   "source": [
    "print(f'Number of incorrect images: {len(incorrect_images)}')\n",
    "df = pd.DataFrame()\n",
    "df['label'] = [x.label.item() for x in incorrect_images]\n",
    "df['prediction'] = [x.prediction.item() for x in incorrect_images]\n",
    "df['image'] = [x.image for x in incorrect_images]\n",
    "\n",
    "\n",
    "incorrect_counts = df['label'][df['label'] != df['prediction']].value_counts()\n",
    "incorrect_counts = incorrect_counts.sort_index()\n",
    "incorrect_counts.plot(kind='bar', title='Incorrect Predictions')"
   ]
  }
 ],
 "metadata": {
  "kernelspec": {
   "display_name": "Python 3",
   "language": "python",
   "name": "python3"
  },
  "language_info": {
   "codemirror_mode": {
    "name": "ipython",
    "version": 3
   },
   "file_extension": ".py",
   "mimetype": "text/x-python",
   "name": "python",
   "nbconvert_exporter": "python",
   "pygments_lexer": "ipython3",
   "version": "3.10.11"
  }
 },
 "nbformat": 4,
 "nbformat_minor": 2
}
